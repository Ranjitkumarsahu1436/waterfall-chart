{
 "cells": [
  {
   "cell_type": "code",
   "execution_count": 1,
   "metadata": {},
   "outputs": [],
   "source": [
    "import numpy as np\n",
    "import pandas as pd\n",
    "import matplotlib.pyplot as plt\n",
    "import matplotlib.lines as lines\n",
    "import waterfall_chart"
   ]
  },
  {
   "cell_type": "code",
   "execution_count": 2,
   "metadata": {},
   "outputs": [],
   "source": [
    "%matplotlib inline"
   ]
  },
  {
   "cell_type": "code",
   "execution_count": 3,
   "metadata": {},
   "outputs": [],
   "source": [
    "df = pd.read_excel(r'F:\\waterfall graph\\Actual Vs Target By Sales Value Variance (1).Xlsx')"
   ]
  },
  {
   "cell_type": "code",
   "execution_count": 4,
   "metadata": {},
   "outputs": [
    {
     "data": {
      "text/html": [
       "<div>\n",
       "<style scoped>\n",
       "    .dataframe tbody tr th:only-of-type {\n",
       "        vertical-align: middle;\n",
       "    }\n",
       "\n",
       "    .dataframe tbody tr th {\n",
       "        vertical-align: top;\n",
       "    }\n",
       "\n",
       "    .dataframe thead th {\n",
       "        text-align: right;\n",
       "    }\n",
       "</style>\n",
       "<table border=\"1\" class=\"dataframe\">\n",
       "  <thead>\n",
       "    <tr style=\"text-align: right;\">\n",
       "      <th></th>\n",
       "      <th>Row Labels</th>\n",
       "      <th>TYPE</th>\n",
       "      <th>VALUE</th>\n",
       "    </tr>\n",
       "  </thead>\n",
       "  <tbody>\n",
       "    <tr>\n",
       "      <td>0</td>\n",
       "      <td>CHINA</td>\n",
       "      <td>PLN</td>\n",
       "      <td>364.148888</td>\n",
       "    </tr>\n",
       "    <tr>\n",
       "      <td>1</td>\n",
       "      <td>INDIA</td>\n",
       "      <td>PLN</td>\n",
       "      <td>200.422322</td>\n",
       "    </tr>\n",
       "    <tr>\n",
       "      <td>2</td>\n",
       "      <td>SPAIN</td>\n",
       "      <td>PLN</td>\n",
       "      <td>197.949054</td>\n",
       "    </tr>\n",
       "    <tr>\n",
       "      <td>3</td>\n",
       "      <td>ITALY</td>\n",
       "      <td>PLN</td>\n",
       "      <td>189.736522</td>\n",
       "    </tr>\n",
       "    <tr>\n",
       "      <td>4</td>\n",
       "      <td>IRAN</td>\n",
       "      <td>PLN</td>\n",
       "      <td>12.137000</td>\n",
       "    </tr>\n",
       "    <tr>\n",
       "      <td>...</td>\n",
       "      <td>...</td>\n",
       "      <td>...</td>\n",
       "      <td>...</td>\n",
       "    </tr>\n",
       "    <tr>\n",
       "      <td>239</td>\n",
       "      <td>UNITED KINGDOM</td>\n",
       "      <td>ACT</td>\n",
       "      <td>238.587473</td>\n",
       "    </tr>\n",
       "    <tr>\n",
       "      <td>240</td>\n",
       "      <td>NETHERLANDS</td>\n",
       "      <td>ACT</td>\n",
       "      <td>59.736688</td>\n",
       "    </tr>\n",
       "    <tr>\n",
       "      <td>241</td>\n",
       "      <td>CANADA</td>\n",
       "      <td>ACT</td>\n",
       "      <td>172.389302</td>\n",
       "    </tr>\n",
       "    <tr>\n",
       "      <td>242</td>\n",
       "      <td>JAPAN</td>\n",
       "      <td>ACT</td>\n",
       "      <td>783.769012</td>\n",
       "    </tr>\n",
       "    <tr>\n",
       "      <td>243</td>\n",
       "      <td>UNITED STATES OF AMERICA</td>\n",
       "      <td>ACT</td>\n",
       "      <td>1311.628200</td>\n",
       "    </tr>\n",
       "  </tbody>\n",
       "</table>\n",
       "<p>244 rows × 3 columns</p>\n",
       "</div>"
      ],
      "text/plain": [
       "                   Row Labels TYPE        VALUE\n",
       "0                       CHINA  PLN   364.148888\n",
       "1                       INDIA  PLN   200.422322\n",
       "2                       SPAIN  PLN   197.949054\n",
       "3                       ITALY  PLN   189.736522\n",
       "4                        IRAN  PLN    12.137000\n",
       "..                        ...  ...          ...\n",
       "239            UNITED KINGDOM  ACT   238.587473\n",
       "240               NETHERLANDS  ACT    59.736688\n",
       "241                    CANADA  ACT   172.389302\n",
       "242                     JAPAN  ACT   783.769012\n",
       "243  UNITED STATES OF AMERICA  ACT  1311.628200\n",
       "\n",
       "[244 rows x 3 columns]"
      ]
     },
     "execution_count": 4,
     "metadata": {},
     "output_type": "execute_result"
    }
   ],
   "source": [
    "df"
   ]
  },
  {
   "cell_type": "code",
   "execution_count": 5,
   "metadata": {},
   "outputs": [
    {
     "data": {
      "text/html": [
       "<div>\n",
       "<style scoped>\n",
       "    .dataframe tbody tr th:only-of-type {\n",
       "        vertical-align: middle;\n",
       "    }\n",
       "\n",
       "    .dataframe tbody tr th {\n",
       "        vertical-align: top;\n",
       "    }\n",
       "\n",
       "    .dataframe thead th {\n",
       "        text-align: right;\n",
       "    }\n",
       "</style>\n",
       "<table border=\"1\" class=\"dataframe\">\n",
       "  <thead>\n",
       "    <tr style=\"text-align: right;\">\n",
       "      <th></th>\n",
       "      <th>Row Labels</th>\n",
       "      <th>TYPE</th>\n",
       "      <th>VALUE</th>\n",
       "      <th>value</th>\n",
       "    </tr>\n",
       "  </thead>\n",
       "  <tbody>\n",
       "    <tr>\n",
       "      <td>0</td>\n",
       "      <td>CHINA</td>\n",
       "      <td>PLN</td>\n",
       "      <td>364.148888</td>\n",
       "      <td>364.149</td>\n",
       "    </tr>\n",
       "    <tr>\n",
       "      <td>1</td>\n",
       "      <td>INDIA</td>\n",
       "      <td>PLN</td>\n",
       "      <td>200.422322</td>\n",
       "      <td>200.422</td>\n",
       "    </tr>\n",
       "    <tr>\n",
       "      <td>2</td>\n",
       "      <td>SPAIN</td>\n",
       "      <td>PLN</td>\n",
       "      <td>197.949054</td>\n",
       "      <td>197.949</td>\n",
       "    </tr>\n",
       "    <tr>\n",
       "      <td>3</td>\n",
       "      <td>ITALY</td>\n",
       "      <td>PLN</td>\n",
       "      <td>189.736522</td>\n",
       "      <td>189.737</td>\n",
       "    </tr>\n",
       "    <tr>\n",
       "      <td>4</td>\n",
       "      <td>IRAN</td>\n",
       "      <td>PLN</td>\n",
       "      <td>12.137000</td>\n",
       "      <td>12.137</td>\n",
       "    </tr>\n",
       "    <tr>\n",
       "      <td>...</td>\n",
       "      <td>...</td>\n",
       "      <td>...</td>\n",
       "      <td>...</td>\n",
       "      <td>...</td>\n",
       "    </tr>\n",
       "    <tr>\n",
       "      <td>239</td>\n",
       "      <td>UNITED KINGDOM</td>\n",
       "      <td>ACT</td>\n",
       "      <td>238.587473</td>\n",
       "      <td>238.587</td>\n",
       "    </tr>\n",
       "    <tr>\n",
       "      <td>240</td>\n",
       "      <td>NETHERLANDS</td>\n",
       "      <td>ACT</td>\n",
       "      <td>59.736688</td>\n",
       "      <td>59.737</td>\n",
       "    </tr>\n",
       "    <tr>\n",
       "      <td>241</td>\n",
       "      <td>CANADA</td>\n",
       "      <td>ACT</td>\n",
       "      <td>172.389302</td>\n",
       "      <td>172.389</td>\n",
       "    </tr>\n",
       "    <tr>\n",
       "      <td>242</td>\n",
       "      <td>JAPAN</td>\n",
       "      <td>ACT</td>\n",
       "      <td>783.769012</td>\n",
       "      <td>783.769</td>\n",
       "    </tr>\n",
       "    <tr>\n",
       "      <td>243</td>\n",
       "      <td>UNITED STATES OF AMERICA</td>\n",
       "      <td>ACT</td>\n",
       "      <td>1311.628200</td>\n",
       "      <td>1311.628</td>\n",
       "    </tr>\n",
       "  </tbody>\n",
       "</table>\n",
       "<p>244 rows × 4 columns</p>\n",
       "</div>"
      ],
      "text/plain": [
       "                   Row Labels TYPE        VALUE     value\n",
       "0                       CHINA  PLN   364.148888   364.149\n",
       "1                       INDIA  PLN   200.422322   200.422\n",
       "2                       SPAIN  PLN   197.949054   197.949\n",
       "3                       ITALY  PLN   189.736522   189.737\n",
       "4                        IRAN  PLN    12.137000    12.137\n",
       "..                        ...  ...          ...       ...\n",
       "239            UNITED KINGDOM  ACT   238.587473   238.587\n",
       "240               NETHERLANDS  ACT    59.736688    59.737\n",
       "241                    CANADA  ACT   172.389302   172.389\n",
       "242                     JAPAN  ACT   783.769012   783.769\n",
       "243  UNITED STATES OF AMERICA  ACT  1311.628200  1311.628\n",
       "\n",
       "[244 rows x 4 columns]"
      ]
     },
     "execution_count": 5,
     "metadata": {},
     "output_type": "execute_result"
    }
   ],
   "source": [
    "df['value']=round(df['VALUE'],3)\n",
    "df"
   ]
  },
  {
   "cell_type": "code",
   "execution_count": 6,
   "metadata": {},
   "outputs": [
    {
     "data": {
      "text/plain": [
       "Row Labels    244\n",
       "TYPE          244\n",
       "VALUE         239\n",
       "value         239\n",
       "dtype: int64"
      ]
     },
     "execution_count": 6,
     "metadata": {},
     "output_type": "execute_result"
    }
   ],
   "source": [
    "df.count()"
   ]
  },
  {
   "cell_type": "code",
   "execution_count": 7,
   "metadata": {},
   "outputs": [
    {
     "data": {
      "text/html": [
       "<div>\n",
       "<style scoped>\n",
       "    .dataframe tbody tr th:only-of-type {\n",
       "        vertical-align: middle;\n",
       "    }\n",
       "\n",
       "    .dataframe tbody tr th {\n",
       "        vertical-align: top;\n",
       "    }\n",
       "\n",
       "    .dataframe thead th {\n",
       "        text-align: right;\n",
       "    }\n",
       "</style>\n",
       "<table border=\"1\" class=\"dataframe\">\n",
       "  <thead>\n",
       "    <tr style=\"text-align: right;\">\n",
       "      <th></th>\n",
       "      <th>Row Labels</th>\n",
       "      <th>TYPE</th>\n",
       "      <th>VALUE</th>\n",
       "      <th>value</th>\n",
       "    </tr>\n",
       "  </thead>\n",
       "  <tbody>\n",
       "    <tr>\n",
       "      <td>0</td>\n",
       "      <td>CHINA</td>\n",
       "      <td>PLN</td>\n",
       "      <td>364.148888</td>\n",
       "      <td>364.149</td>\n",
       "    </tr>\n",
       "    <tr>\n",
       "      <td>1</td>\n",
       "      <td>INDIA</td>\n",
       "      <td>PLN</td>\n",
       "      <td>200.422322</td>\n",
       "      <td>200.422</td>\n",
       "    </tr>\n",
       "    <tr>\n",
       "      <td>2</td>\n",
       "      <td>SPAIN</td>\n",
       "      <td>PLN</td>\n",
       "      <td>197.949054</td>\n",
       "      <td>197.949</td>\n",
       "    </tr>\n",
       "    <tr>\n",
       "      <td>3</td>\n",
       "      <td>ITALY</td>\n",
       "      <td>PLN</td>\n",
       "      <td>189.736522</td>\n",
       "      <td>189.737</td>\n",
       "    </tr>\n",
       "    <tr>\n",
       "      <td>4</td>\n",
       "      <td>IRAN</td>\n",
       "      <td>PLN</td>\n",
       "      <td>12.137000</td>\n",
       "      <td>12.137</td>\n",
       "    </tr>\n",
       "    <tr>\n",
       "      <td>...</td>\n",
       "      <td>...</td>\n",
       "      <td>...</td>\n",
       "      <td>...</td>\n",
       "      <td>...</td>\n",
       "    </tr>\n",
       "    <tr>\n",
       "      <td>117</td>\n",
       "      <td>UNITED KINGDOM</td>\n",
       "      <td>PLN</td>\n",
       "      <td>232.440877</td>\n",
       "      <td>232.441</td>\n",
       "    </tr>\n",
       "    <tr>\n",
       "      <td>118</td>\n",
       "      <td>NETHERLANDS</td>\n",
       "      <td>PLN</td>\n",
       "      <td>52.252090</td>\n",
       "      <td>52.252</td>\n",
       "    </tr>\n",
       "    <tr>\n",
       "      <td>119</td>\n",
       "      <td>CANADA</td>\n",
       "      <td>PLN</td>\n",
       "      <td>162.275544</td>\n",
       "      <td>162.276</td>\n",
       "    </tr>\n",
       "    <tr>\n",
       "      <td>120</td>\n",
       "      <td>JAPAN</td>\n",
       "      <td>PLN</td>\n",
       "      <td>739.956889</td>\n",
       "      <td>739.957</td>\n",
       "    </tr>\n",
       "    <tr>\n",
       "      <td>121</td>\n",
       "      <td>UNITED STATES OF AMERICA</td>\n",
       "      <td>PLN</td>\n",
       "      <td>1146.115172</td>\n",
       "      <td>1146.115</td>\n",
       "    </tr>\n",
       "  </tbody>\n",
       "</table>\n",
       "<p>122 rows × 4 columns</p>\n",
       "</div>"
      ],
      "text/plain": [
       "                   Row Labels TYPE        VALUE     value\n",
       "0                       CHINA  PLN   364.148888   364.149\n",
       "1                       INDIA  PLN   200.422322   200.422\n",
       "2                       SPAIN  PLN   197.949054   197.949\n",
       "3                       ITALY  PLN   189.736522   189.737\n",
       "4                        IRAN  PLN    12.137000    12.137\n",
       "..                        ...  ...          ...       ...\n",
       "117            UNITED KINGDOM  PLN   232.440877   232.441\n",
       "118               NETHERLANDS  PLN    52.252090    52.252\n",
       "119                    CANADA  PLN   162.275544   162.276\n",
       "120                     JAPAN  PLN   739.956889   739.957\n",
       "121  UNITED STATES OF AMERICA  PLN  1146.115172  1146.115\n",
       "\n",
       "[122 rows x 4 columns]"
      ]
     },
     "execution_count": 7,
     "metadata": {},
     "output_type": "execute_result"
    }
   ],
   "source": [
    "df2= df[df['TYPE'].str.contains(\"PLN\")]\n",
    "df2"
   ]
  },
  {
   "cell_type": "code",
   "execution_count": 8,
   "metadata": {},
   "outputs": [
    {
     "name": "stdout",
     "output_type": "stream",
     "text": [
      "                   Row Labels TYPE        VALUE     value\n",
      "121  UNITED STATES OF AMERICA  PLN  1146.115172  1146.115\n"
     ]
    }
   ],
   "source": [
    "print(df2[df2.VALUE == df2.VALUE.max()]) "
   ]
  },
  {
   "cell_type": "code",
   "execution_count": 9,
   "metadata": {},
   "outputs": [
    {
     "name": "stdout",
     "output_type": "stream",
     "text": [
      "   Row Labels TYPE     VALUE  value\n",
      "51     MALAWI  PLN  0.047901  0.048\n"
     ]
    }
   ],
   "source": [
    "print(df2[df2.VALUE == df2.VALUE.min()]) "
   ]
  },
  {
   "cell_type": "code",
   "execution_count": 10,
   "metadata": {},
   "outputs": [
    {
     "data": {
      "text/html": [
       "<div>\n",
       "<style scoped>\n",
       "    .dataframe tbody tr th:only-of-type {\n",
       "        vertical-align: middle;\n",
       "    }\n",
       "\n",
       "    .dataframe tbody tr th {\n",
       "        vertical-align: top;\n",
       "    }\n",
       "\n",
       "    .dataframe thead th {\n",
       "        text-align: right;\n",
       "    }\n",
       "</style>\n",
       "<table border=\"1\" class=\"dataframe\">\n",
       "  <thead>\n",
       "    <tr style=\"text-align: right;\">\n",
       "      <th></th>\n",
       "      <th>Row Labels</th>\n",
       "      <th>TYPE</th>\n",
       "      <th>VALUE</th>\n",
       "      <th>value</th>\n",
       "    </tr>\n",
       "  </thead>\n",
       "  <tbody>\n",
       "    <tr>\n",
       "      <td>121</td>\n",
       "      <td>UNITED STATES OF AMERICA</td>\n",
       "      <td>PLN</td>\n",
       "      <td>1146.115172</td>\n",
       "      <td>1146.115</td>\n",
       "    </tr>\n",
       "    <tr>\n",
       "      <td>120</td>\n",
       "      <td>JAPAN</td>\n",
       "      <td>PLN</td>\n",
       "      <td>739.956889</td>\n",
       "      <td>739.957</td>\n",
       "    </tr>\n",
       "    <tr>\n",
       "      <td>0</td>\n",
       "      <td>CHINA</td>\n",
       "      <td>PLN</td>\n",
       "      <td>364.148888</td>\n",
       "      <td>364.149</td>\n",
       "    </tr>\n",
       "  </tbody>\n",
       "</table>\n",
       "</div>"
      ],
      "text/plain": [
       "                   Row Labels TYPE        VALUE     value\n",
       "121  UNITED STATES OF AMERICA  PLN  1146.115172  1146.115\n",
       "120                     JAPAN  PLN   739.956889   739.957\n",
       "0                       CHINA  PLN   364.148888   364.149"
      ]
     },
     "execution_count": 10,
     "metadata": {},
     "output_type": "execute_result"
    }
   ],
   "source": [
    "df3= df2.nlargest(3, ['VALUE']) \n",
    "df3"
   ]
  },
  {
   "cell_type": "code",
   "execution_count": 11,
   "metadata": {},
   "outputs": [
    {
     "data": {
      "image/png": "[encoded data removed]",
      "text/plain": [
       "<Figure size 432x288 with 1 Axes>"
      ]
     },
     "metadata": {
      "needs_background": "light"
     },
     "output_type": "display_data"
    }
   ],
   "source": [
    "x = df3['Row Labels']\n",
    "y = df3['value']\n",
    "\n",
    "myplot = waterfall_chart.plot(x,y,Title=\"Three Country have posetive value\",x_lab = \"Country Name\",y_lab = \"Value\")"
   ]
  },
  {
   "cell_type": "code",
   "execution_count": 12,
   "metadata": {},
   "outputs": [
    {
     "data": {
      "text/html": [
       "<div>\n",
       "<style scoped>\n",
       "    .dataframe tbody tr th:only-of-type {\n",
       "        vertical-align: middle;\n",
       "    }\n",
       "\n",
       "    .dataframe tbody tr th {\n",
       "        vertical-align: top;\n",
       "    }\n",
       "\n",
       "    .dataframe thead th {\n",
       "        text-align: right;\n",
       "    }\n",
       "</style>\n",
       "<table border=\"1\" class=\"dataframe\">\n",
       "  <thead>\n",
       "    <tr style=\"text-align: right;\">\n",
       "      <th></th>\n",
       "      <th>Row Labels</th>\n",
       "      <th>TYPE</th>\n",
       "      <th>VALUE</th>\n",
       "      <th>value</th>\n",
       "    </tr>\n",
       "  </thead>\n",
       "  <tbody>\n",
       "    <tr>\n",
       "      <td>51</td>\n",
       "      <td>MALAWI</td>\n",
       "      <td>PLN</td>\n",
       "      <td>0.047901</td>\n",
       "      <td>0.048</td>\n",
       "    </tr>\n",
       "    <tr>\n",
       "      <td>59</td>\n",
       "      <td>ZAMBIA</td>\n",
       "      <td>PLN</td>\n",
       "      <td>0.080939</td>\n",
       "      <td>0.081</td>\n",
       "    </tr>\n",
       "    <tr>\n",
       "      <td>49</td>\n",
       "      <td>MOZAMBIQUE</td>\n",
       "      <td>PLN</td>\n",
       "      <td>0.094783</td>\n",
       "      <td>0.095</td>\n",
       "    </tr>\n",
       "  </tbody>\n",
       "</table>\n",
       "</div>"
      ],
      "text/plain": [
       "    Row Labels TYPE     VALUE  value\n",
       "51      MALAWI  PLN  0.047901  0.048\n",
       "59      ZAMBIA  PLN  0.080939  0.081\n",
       "49  MOZAMBIQUE  PLN  0.094783  0.095"
      ]
     },
     "execution_count": 12,
     "metadata": {},
     "output_type": "execute_result"
    }
   ],
   "source": [
    "dff = df2.nsmallest(3, ['VALUE']) \n",
    "dff"
   ]
  },
  {
   "cell_type": "code",
   "execution_count": 13,
   "metadata": {},
   "outputs": [],
   "source": [
    "import plotly.graph_objects as go"
   ]
  },
  {
   "cell_type": "code",
   "execution_count": 14,
   "metadata": {},
   "outputs": [
    {
     "data": {
      "image/png": "[encoded data removed]",
      "text/plain": [
       "<Figure size 432x288 with 1 Axes>"
      ]
     },
     "metadata": {
      "needs_background": "light"
     },
     "output_type": "display_data"
    }
   ],
   "source": [
    "#import waterfall_chart\n",
    "x = dff['Row Labels']\n",
    "y = dff['value']\n",
    "\n",
    "myplot = waterfall_chart.plot(x,y,Title= \"Three country have negetive value value\",x_lab = \"Country Name\",y_lab = \"Value\")"
   ]
  },
  {
   "cell_type": "code",
   "execution_count": null,
   "metadata": {},
   "outputs": [],
   "source": []
  }
 ],
 "metadata": {
  "kernelspec": {
   "display_name": "Python 3",
   "language": "python",
   "name": "python3"
  },
  "language_info": {
   "codemirror_mode": {
    "name": "ipython",
    "version": 3
   },
   "file_extension": ".py",
   "mimetype": "text/x-python",
   "name": "python",
   "nbconvert_exporter": "python",
   "pygments_lexer": "ipython3",
   "version": "3.7.1"
  }
 },
 "nbformat": 4,
 "nbformat_minor": 2
}
